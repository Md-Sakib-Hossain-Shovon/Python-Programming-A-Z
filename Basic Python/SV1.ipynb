{
 "cells": [
  {
   "cell_type": "code",
   "execution_count": 4,
   "metadata": {},
   "outputs": [
    {
     "name": "stdout",
     "output_type": "stream",
     "text": [
      "Result 1 is SV2\n",
      "Fun1\n",
      "Fun2\n"
     ]
    }
   ],
   "source": [
    "import import_ipynb\n",
    "from SV2 import add\n",
    "def fun1():\n",
    "    add()\n",
    "    print(\"Fun1\")\n",
    "def fun2():\n",
    "    print(\"Fun2\")\n",
    "def main():\n",
    "    fun1()\n",
    "    fun2()\n",
    "main()    "
   ]
  },
  {
   "cell_type": "code",
   "execution_count": null,
   "metadata": {},
   "outputs": [],
   "source": []
  }
 ],
 "metadata": {
  "kernelspec": {
   "display_name": "Python 3",
   "language": "python",
   "name": "python3"
  },
  "language_info": {
   "codemirror_mode": {
    "name": "ipython",
    "version": 3
   },
   "file_extension": ".py",
   "mimetype": "text/x-python",
   "name": "python",
   "nbconvert_exporter": "python",
   "pygments_lexer": "ipython3",
   "version": "3.7.4"
  }
 },
 "nbformat": 4,
 "nbformat_minor": 4
}
