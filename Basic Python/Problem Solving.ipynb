{
 "cells": [
  {
   "cell_type": "code",
   "execution_count": 17,
   "metadata": {},
   "outputs": [
    {
     "name": "stdout",
     "output_type": "stream",
     "text": [
      "['python', 'is', 'my', 'favourite', 'language']\n"
     ]
    }
   ],
   "source": [
    "#Problem-1\n",
    "def list_concate(a,b):\n",
    "    x=0\n",
    "    flist=[]\n",
    "    for i in a:\n",
    "        for j in b:\n",
    "            flist.append(i+b[x])\n",
    "            x+=1\n",
    "            break\n",
    "    print(flist)\n",
    "\n",
    "list1=[\"py\",\"i\",\"m\",\"favou\",\"lang\"]\n",
    "list2=[\"thon\",\"s\",\"y\",\"rite\",\"uage\"]\n",
    "list_concate(list1,list2)"
   ]
  },
  {
   "cell_type": "code",
   "execution_count": 16,
   "metadata": {},
   "outputs": [
    {
     "name": "stdout",
     "output_type": "stream",
     "text": [
      "[[66 12]\n",
      " [90 67]\n",
      " [44 77]]\n"
     ]
    }
   ],
   "source": [
    "#Problem-2\n",
    "import numpy as np\n",
    "arr = np.array([[20 ,66, 88, 12], [75 ,19, 92, 71], [27 ,90, 33, 67], [21 ,14, 25, 38], [51 ,44, 57, 77]])\n",
    "newarr=arr[::2,1::2]\n",
    "print(newarr)"
   ]
  },
  {
   "cell_type": "code",
   "execution_count": 3,
   "metadata": {},
   "outputs": [
    {
     "name": "stdout",
     "output_type": "stream",
     "text": [
      "[[10 11 12]\n",
      " [13 14 15]]\n",
      "[[16 17 18]\n",
      " [19 20 21]]\n",
      "[[22 23 24]\n",
      " [25 26 27]]\n",
      "[[28 29 30]\n",
      " [31 32 33]]\n"
     ]
    }
   ],
   "source": [
    "#Problem-3\n",
    "import numpy as np\n",
    "array= np.arange(10, 34).reshape((8,3))\n",
    "one, two, three, four = np.vsplit(array, 4)\n",
    "print(one)\n",
    "print(two)\n",
    "print(three)\n",
    "print(four)"
   ]
  },
  {
   "cell_type": "code",
   "execution_count": 13,
   "metadata": {},
   "outputs": [
    {
     "name": "stdout",
     "output_type": "stream",
     "text": [
      "[[34 43 73]\n",
      " [82 22 12]\n",
      " [53 94 66]]\n",
      "[[73 43 34]\n",
      " [12 22 82]\n",
      " [66 94 53]]\n",
      "[[82 22 12]\n",
      " [34 43 73]\n",
      " [53 94 66]]\n"
     ]
    }
   ],
   "source": [
    "#Problem-4\n",
    "#expected output according to question\n",
    "import numpy as np\n",
    "array =np.array([[34, 43, 73],[82, 22, 12],[53, 94,66]])\n",
    "print(array)\n",
    "\n",
    "array1=array[:, np.argsort(array[1])] \n",
    "print(array1)\n",
    "array2=array[np.argsort(array[:,1])]\n",
    "print(array2)"
   ]
  },
  {
   "cell_type": "code",
   "execution_count": 22,
   "metadata": {},
   "outputs": [
    {
     "name": "stdout",
     "output_type": "stream",
     "text": [
      "Fare is 3000\n",
      "Fare is 3300.0\n",
      "Fare is 1650.0\n"
     ]
    }
   ],
   "source": [
    "#Problem-5\n",
    "class Vehicle:\n",
    "    def __init__(self, name, mileage, capacity):\n",
    "        self.name = name\n",
    "        self.mileage = mileage\n",
    "        self.capacity=capacity\n",
    "    def fare(self):\n",
    "        self.capacity=self.capacity*100\n",
    "        print('Fare is '+str(self.capacity))\n",
    "\n",
    "class Bus(Vehicle) :\n",
    "    def fare(self):\n",
    "        self.capacity=(self.capacity*100)\n",
    "        self.capacity=self.capacity+(self.capacity*.1)\n",
    "        print('Fare is ' +str(self.capacity))\n",
    "\n",
    "class MiniBus (Vehicle):\n",
    "    def fare(self):\n",
    "        self.capacity=(self.capacity*100)\n",
    "        self.capacity=(self.capacity+(self.capacity*.1))/2\n",
    "        print('Fare is ' +str (self. capacity))\n",
    "\n",
    "obj1= Vehicle(\"Car\", 20,30)\n",
    "obj1.fare()\n",
    "obj2= Bus(\"Western Journey\",20, 30)\n",
    "obj2.fare()\n",
    "obj3= MiniBus(\" Small Trip\", 20,30)\n",
    "obj3.fare()"
   ]
  },
  {
   "cell_type": "code",
   "execution_count": 3,
   "metadata": {},
   "outputs": [
    {
     "name": "stdout",
     "output_type": "stream",
     "text": [
      "Enter to Checkas\n",
      "Reserved,as = To create an alias\n"
     ]
    }
   ],
   "source": [
    "#Problem-6\n",
    "dict={\n",
    "\n",
    "\"and\":\"A logical operator\",\n",
    "\"as\": \"To create an alias\",\n",
    "\"break\":\"To get out of a loop\",\n",
    "\"del\": \"To delete an obj\",\n",
    "\"elif\":\"Used In conditional statements\",\n",
    "\"else\":\"Used In conditional statements\",\n",
    "\"except\": \"Used With exceptions, what to do when an exception occurs\",\n",
    "\"False\":\"Boolean value, result of comparison operations\",\n",
    "\"Finally\":\"Used With exceptions, a block of code that will be executed no matter If there Is an exception Or Not\",\n",
    "\"for\":\"To create a  loop\",\n",
    "\"from\":\"To Import specific parts of a module\",\n",
    "\"if\":\"To make a conditional statement\",\n",
    "\"global\": \"To declare a Global variable\",\n",
    "\"import\": \"To Import a module\",\n",
    "\"in\": \"To check If a value Is present In a List, Tuple, etc.\",\n",
    "\"is\": \"To test If two variables are equal\",\n",
    "\"lambda\":\"To create an anonymous function\",\n",
    "\"Non\":\"Represents a null value\",\n",
    "\"not\":\"A logical operator\",\n",
    "\"or\":\"A logical operator\",\n",
    "\"pass\": \"A null statement, a statement that will do nothing\",\n",
    "\"raise\":  \"To Raise an exception\",\n",
    "\"return\": \"To exit a function And Return a value\",\n",
    "\"true\":\"Boolean value, result of comparison operations\",\n",
    "\"nonlocal\": \"To declare a non-local variable\",\n",
    "\"with\": \"Used to simplify exception handling\" ,\n",
    "\"try\":\"To make a Try...Except statement\",\n",
    "\"while\": \"To create a While loop\"\n",
    "\n",
    "}\n",
    "def check(dict,key):\n",
    "    if key in dict.keys():\n",
    "        print(\"Reserved,\",end=\"\")\n",
    "        print(key,\"=\",dict[key])\n",
    "    else:\n",
    "        print(\"Not Reserved\")\n",
    "key= str(input(\"Enter to Check\")) \n",
    "check(dict,key)\n"
   ]
  },
  {
   "cell_type": "code",
   "execution_count": 14,
   "metadata": {},
   "outputs": [
    {
     "name": "stdout",
     "output_type": "stream",
     "text": [
      " Enter the number of rows:7\n",
      "1 \n",
      "1 1 \n",
      "1 2 1 \n",
      "1 3 3 1 \n",
      "1 4 6 4 1 \n",
      "1 5 10 10 5 1 \n",
      "1 6 15 20 15 6 1 \n"
     ]
    }
   ],
   "source": [
    "#Problem-7\n",
    "\n",
    "n=int(input (\" Enter the number of rows:\"))\n",
    "list1=[[] for i in range (n)]\n",
    "\n",
    "for i in range(n):\n",
    "    for j in range(i+1):\n",
    "        if (j<i):\n",
    "            if(j==0):\n",
    "                list1[i].append (1)\n",
    "            else:\n",
    "                list1[i].append(list1[i-1][j]+list1[i-1][j- 1])\n",
    "        elif(i==j):\n",
    "            list1[i].append(1)\n",
    "\n",
    "for i in range(n):\n",
    "    for j in range(i+1):\n",
    "        print(list1[i][j], end=\" \")       \n",
    "    print()"
   ]
  },
  {
   "cell_type": "code",
   "execution_count": null,
   "metadata": {},
   "outputs": [],
   "source": []
  }
 ],
 "metadata": {
  "kernelspec": {
   "display_name": "Python 3",
   "language": "python",
   "name": "python3"
  },
  "language_info": {
   "codemirror_mode": {
    "name": "ipython",
    "version": 3
   },
   "file_extension": ".py",
   "mimetype": "text/x-python",
   "name": "python",
   "nbconvert_exporter": "python",
   "pygments_lexer": "ipython3",
   "version": "3.9.5"
  }
 },
 "nbformat": 4,
 "nbformat_minor": 4
}
