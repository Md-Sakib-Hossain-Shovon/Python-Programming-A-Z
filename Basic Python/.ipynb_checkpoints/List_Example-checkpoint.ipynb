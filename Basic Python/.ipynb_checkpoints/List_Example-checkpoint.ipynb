{
 "cells": [
  {
   "cell_type": "markdown",
   "metadata": {},
   "source": [
    "#List_Example"
   ]
  },
  {
   "cell_type": "code",
   "execution_count": 1,
   "metadata": {},
   "outputs": [
    {
     "name": "stdout",
     "output_type": "stream",
     "text": [
      "[10, 3, 37, 40, 50]\n"
     ]
    }
   ],
   "source": [
    "nums=[10,3,37,40,50]\n",
    "print(nums)"
   ]
  },
  {
   "cell_type": "code",
   "execution_count": 3,
   "metadata": {},
   "outputs": [
    {
     "name": "stdout",
     "output_type": "stream",
     "text": [
      "['sakib', 'naeem', 'asif']\n"
     ]
    }
   ],
   "source": [
    "names=['sakib','naeem','asif']\n",
    "print(names)"
   ]
  },
  {
   "cell_type": "code",
   "execution_count": 4,
   "metadata": {},
   "outputs": [
    {
     "name": "stdout",
     "output_type": "stream",
     "text": [
      "[10, 3, 37, 40, 50, 45]\n"
     ]
    }
   ],
   "source": [
    "nums.append(45)\n",
    "print(nums)"
   ]
  },
  {
   "cell_type": "code",
   "execution_count": 5,
   "metadata": {},
   "outputs": [
    {
     "name": "stdout",
     "output_type": "stream",
     "text": [
      "[10, 3, 10, 37, 40, 50, 45]\n"
     ]
    }
   ],
   "source": [
    "nums.insert(2,10)\n",
    "print(nums)"
   ]
  },
  {
   "cell_type": "code",
   "execution_count": 6,
   "metadata": {},
   "outputs": [
    {
     "name": "stdout",
     "output_type": "stream",
     "text": [
      "[10, 3, 10, 40, 50, 45]\n"
     ]
    }
   ],
   "source": [
    "nums.remove(37)\n",
    "print(nums)"
   ]
  },
  {
   "cell_type": "code",
   "execution_count": 7,
   "metadata": {},
   "outputs": [
    {
     "name": "stdout",
     "output_type": "stream",
     "text": [
      "[3, 10, 40, 50, 45]\n"
     ]
    }
   ],
   "source": [
    "nums.pop(0)\n",
    "print(nums)"
   ]
  },
  {
   "cell_type": "code",
   "execution_count": 8,
   "metadata": {},
   "outputs": [
    {
     "name": "stdout",
     "output_type": "stream",
     "text": [
      "[3, 10, 40, 50]\n"
     ]
    }
   ],
   "source": [
    "nums.pop()\n",
    "print(nums)"
   ]
  },
  {
   "cell_type": "code",
   "execution_count": 9,
   "metadata": {},
   "outputs": [
    {
     "name": "stdout",
     "output_type": "stream",
     "text": [
      "[3, 10]\n"
     ]
    }
   ],
   "source": [
    "del nums[2:]\n",
    "print(nums)"
   ]
  },
  {
   "cell_type": "code",
   "execution_count": 11,
   "metadata": {},
   "outputs": [
    {
     "name": "stdout",
     "output_type": "stream",
     "text": [
      "[3, 10, 22, 33]\n"
     ]
    }
   ],
   "source": [
    "nums.extend([22,33])\n",
    "print(nums)"
   ]
  },
  {
   "cell_type": "code",
   "execution_count": 13,
   "metadata": {},
   "outputs": [
    {
     "data": {
      "text/plain": [
       "3"
      ]
     },
     "execution_count": 13,
     "metadata": {},
     "output_type": "execute_result"
    }
   ],
   "source": [
    "min(nums)"
   ]
  },
  {
   "cell_type": "code",
   "execution_count": 14,
   "metadata": {},
   "outputs": [
    {
     "data": {
      "text/plain": [
       "33"
      ]
     },
     "execution_count": 14,
     "metadata": {},
     "output_type": "execute_result"
    }
   ],
   "source": [
    "max(nums)"
   ]
  },
  {
   "cell_type": "code",
   "execution_count": 15,
   "metadata": {},
   "outputs": [
    {
     "data": {
      "text/plain": [
       "68"
      ]
     },
     "execution_count": 15,
     "metadata": {},
     "output_type": "execute_result"
    }
   ],
   "source": [
    "sum(nums)"
   ]
  },
  {
   "cell_type": "code",
   "execution_count": 16,
   "metadata": {},
   "outputs": [
    {
     "name": "stdout",
     "output_type": "stream",
     "text": [
      "[3, 10, 22, 33]\n"
     ]
    }
   ],
   "source": [
    "nums.sort()\n",
    "print(nums)"
   ]
  },
  {
   "cell_type": "code",
   "execution_count": 1,
   "metadata": {},
   "outputs": [
    {
     "name": "stdout",
     "output_type": "stream",
     "text": [
      "[1, 2, 3, 2, 1, 4, 5]\n",
      "[1, 2]\n"
     ]
    }
   ],
   "source": [
    "class MyList:\n",
    "\n",
    "    def __init__(self, list):\n",
    "\n",
    "        self.list = list\n",
    "\n",
    "        self.duplicateList = []\n",
    "\n",
    "\n",
    "\n",
    "    def display(self , list):\n",
    "\n",
    "        print(list)\n",
    "\n",
    "\n",
    "\n",
    "    def duplicate(self):\n",
    "\n",
    "        for i in self.list:\n",
    "\n",
    "            if self.list.count(i)>1:\n",
    "\n",
    "                if self.duplicateList.count(i)<1:\n",
    "\n",
    "                    self.duplicateList.append(i)\n",
    "\n",
    "\n",
    "\n",
    "\n",
    "\n",
    "list1 = MyList(list=[1, 2, 3, 2, 1, 4, 5])\n",
    "\n",
    "list1.display(list1.list)\n",
    "\n",
    "list1.duplicate()\n",
    "\n",
    "list1.display(list1.duplicateList)"
   ]
  },
  {
   "cell_type": "code",
   "execution_count": null,
   "metadata": {},
   "outputs": [],
   "source": [
    "class MyList:\n",
    "\n",
    "    def __init__(self, list):\n",
    "\n",
    "        self.list = list\n",
    "\n",
    "        self.duplicateList = []\n",
    "\n",
    "        self.uniqueList = []\n",
    "\n",
    "\n",
    "\n",
    "    def display(self , list):\n",
    "\n",
    "        print(list)\n",
    "\n",
    "\n",
    "\n",
    "    def duplicate(self):\n",
    "\n",
    "        for i in self.list:\n",
    "\n",
    "            if self.list.count(i)>1:\n",
    "\n",
    "                if self.duplicateList.count(i)<1:\n",
    "\n",
    "                    self.duplicateList.append(i)\n",
    "\n",
    "    \n",
    "\n",
    "    def unique(self):\n",
    "\n",
    "        for x in self.list:\n",
    "\n",
    "            if x not in self.uniqueList:\n",
    "\n",
    "                self.uniqueList.append(x)\n",
    "\n",
    "\n",
    "\n",
    "\n",
    "\n",
    "list1 = MyList(list=[1, 2, 3, 2, 2, 1, 4, 5])\n",
    "\n",
    "list1.display(list1.list)\n",
    "\n",
    "list1.duplicate()\n",
    "\n",
    "list1.display(list1.duplicateList)\n",
    "\n",
    "list1.unique()\n",
    "\n",
    "list1.display(list1.uniqueList)"
   ]
  }
 ],
 "metadata": {
  "kernelspec": {
   "display_name": "Python 3",
   "language": "python",
   "name": "python3"
  },
  "language_info": {
   "codemirror_mode": {
    "name": "ipython",
    "version": 3
   },
   "file_extension": ".py",
   "mimetype": "text/x-python",
   "name": "python",
   "nbconvert_exporter": "python",
   "pygments_lexer": "ipython3",
   "version": "3.7.4"
  }
 },
 "nbformat": 4,
 "nbformat_minor": 4
}
