{
 "cells": [
  {
   "cell_type": "code",
   "execution_count": 1,
   "metadata": {},
   "outputs": [
    {
     "name": "stdout",
     "output_type": "stream",
     "text": [
      "Hey,We cann't devide a number by zero\n",
      "Bye\n"
     ]
    }
   ],
   "source": [
    "a=5\n",
    "b=0\n",
    "try:\n",
    "    print(a/b)\n",
    "except Exception:\n",
    "    print(\"Hey,We cann't devide a number by zero\")\n",
    "print(\"Bye\")    "
   ]
  },
  {
   "cell_type": "code",
   "execution_count": 2,
   "metadata": {},
   "outputs": [
    {
     "name": "stdout",
     "output_type": "stream",
     "text": [
      "2.5\n",
      "Bye\n"
     ]
    }
   ],
   "source": [
    "a=5\n",
    "b=2\n",
    "try:\n",
    "    print(a/b)\n",
    "except Exception:\n",
    "    print(\"Hey,We cann't devide a number by zero\")\n",
    "print(\"Bye\")    "
   ]
  },
  {
   "cell_type": "code",
   "execution_count": 3,
   "metadata": {},
   "outputs": [
    {
     "name": "stdout",
     "output_type": "stream",
     "text": [
      "Hey,We cann't devide a number by zero division by zero\n",
      "Bye\n"
     ]
    }
   ],
   "source": [
    "a=5\n",
    "b=0\n",
    "try:\n",
    "    print(a/b)\n",
    "except Exception as e:\n",
    "    print(\"Hey,We cann't devide a number by zero\",e)\n",
    "print(\"Bye\")    "
   ]
  },
  {
   "cell_type": "code",
   "execution_count": 4,
   "metadata": {},
   "outputs": [
    {
     "name": "stdout",
     "output_type": "stream",
     "text": [
      "Resource Open\n",
      "Hey,We cann't devide a number by zero division by zero\n",
      "Bye\n"
     ]
    }
   ],
   "source": [
    "a=5\n",
    "b=0\n",
    "try:\n",
    "    print(\"Resource Open\")\n",
    "    print(a/b)\n",
    "    print(\"Resource Closed\")\n",
    "except Exception as e:\n",
    "    print(\"Hey,We cann't devide a number by zero\",e)\n",
    "print(\"Bye\")    "
   ]
  },
  {
   "cell_type": "markdown",
   "metadata": {},
   "source": [
    "##Finally block will be executed if we get error as well as if we don't get the error"
   ]
  },
  {
   "cell_type": "code",
   "execution_count": 7,
   "metadata": {},
   "outputs": [
    {
     "name": "stdout",
     "output_type": "stream",
     "text": [
      "Resource Open\n",
      "Hey,We cann't devide a number by zero division by zero\n",
      "resource closed\n"
     ]
    }
   ],
   "source": [
    "a=5\n",
    "b=0\n",
    "try:\n",
    "    print(\"Resource Open\")\n",
    "    print(a/b)\n",
    "except Exception as e:\n",
    "    print(\"Hey,We cann't devide a number by zero\",e)\n",
    "finally:\n",
    "    print(\"resource closed\")"
   ]
  },
  {
   "cell_type": "code",
   "execution_count": 8,
   "metadata": {},
   "outputs": [
    {
     "name": "stdout",
     "output_type": "stream",
     "text": [
      "Resource Open\n",
      "2.5\n",
      "Enter a Numbere\n",
      "Invalid Input\n",
      "resource closed\n"
     ]
    }
   ],
   "source": [
    "a=5\n",
    "b=2\n",
    "try:\n",
    "    print(\"Resource Open\")\n",
    "    print(a/b)\n",
    "    k=int(input(\"Enter a Number\"))\n",
    "    print(k)\n",
    "except ZeroDivisionError as e:\n",
    "    print(\"Can't devide a number by zero\")\n",
    "except ValueError as e:\n",
    "    print(\"Invalid Input\")\n",
    "except Exception as e:\n",
    "    print(\"Something wrong\")\n",
    "finally:\n",
    "    print(\"resource closed\")"
   ]
  },
  {
   "cell_type": "code",
   "execution_count": null,
   "metadata": {},
   "outputs": [],
   "source": []
  }
 ],
 "metadata": {
  "kernelspec": {
   "display_name": "Python 3",
   "language": "python",
   "name": "python3"
  },
  "language_info": {
   "codemirror_mode": {
    "name": "ipython",
    "version": 3
   },
   "file_extension": ".py",
   "mimetype": "text/x-python",
   "name": "python",
   "nbconvert_exporter": "python",
   "pygments_lexer": "ipython3",
   "version": "3.7.4"
  }
 },
 "nbformat": 4,
 "nbformat_minor": 4
}
