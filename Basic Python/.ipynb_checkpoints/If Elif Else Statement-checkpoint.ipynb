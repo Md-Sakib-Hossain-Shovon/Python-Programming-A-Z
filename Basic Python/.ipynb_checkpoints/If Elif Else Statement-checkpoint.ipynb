{
 "cells": [
  {
   "cell_type": "markdown",
   "metadata": {},
   "source": [
    "##If Else"
   ]
  },
  {
   "cell_type": "code",
   "execution_count": 1,
   "metadata": {},
   "outputs": [
    {
     "name": "stdout",
     "output_type": "stream",
     "text": [
      "Even\n",
      "Not So Great\n",
      "Bye\n"
     ]
    }
   ],
   "source": [
    "x=4\n",
    "r=x%2\n",
    "if r==0:\n",
    "    print(\"Even\")\n",
    "    if x>5:\n",
    "        print(\"Great\")\n",
    "    else:\n",
    "        print(\"Not So Great\")\n",
    "else:\n",
    "    print(\"Odd\")\n",
    "print(\"Bye\")    "
   ]
  },
  {
   "cell_type": "markdown",
   "metadata": {},
   "source": [
    "##El If"
   ]
  },
  {
   "cell_type": "code",
   "execution_count": 5,
   "metadata": {},
   "outputs": [
    {
     "name": "stdout",
     "output_type": "stream",
     "text": [
      "Two\n"
     ]
    }
   ],
   "source": [
    "x=2\n",
    "if (x==1):\n",
    "    print(\"One\")\n",
    "elif(x==2):\n",
    "    print(\"Two\")\n",
    "elif(x==3):\n",
    "    print(\"Three\")\n",
    "else:\n",
    "    print(\"Wrong\")"
   ]
  },
  {
   "cell_type": "code",
   "execution_count": null,
   "metadata": {},
   "outputs": [],
   "source": []
  }
 ],
 "metadata": {
  "kernelspec": {
   "display_name": "Python 3",
   "language": "python",
   "name": "python3"
  },
  "language_info": {
   "codemirror_mode": {
    "name": "ipython",
    "version": 3
   },
   "file_extension": ".py",
   "mimetype": "text/x-python",
   "name": "python",
   "nbconvert_exporter": "python",
   "pygments_lexer": "ipython3",
   "version": "3.7.4"
  }
 },
 "nbformat": 4,
 "nbformat_minor": 4
}
