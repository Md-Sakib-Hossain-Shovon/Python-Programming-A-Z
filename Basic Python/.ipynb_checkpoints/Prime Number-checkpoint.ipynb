{
 "cells": [
  {
   "cell_type": "code",
   "execution_count": 2,
   "metadata": {},
   "outputs": [
    {
     "name": "stdout",
     "output_type": "stream",
     "text": [
      "Prime\n"
     ]
    }
   ],
   "source": [
    "num=7\n",
    "for i in range(2,num):\n",
    "    if num%i==0:\n",
    "        print(\"Not Prime\")\n",
    "        break\n",
    "else:\n",
    "    print(\"Prime\")"
   ]
  },
  {
   "cell_type": "code",
   "execution_count": 37,
   "metadata": {},
   "outputs": [
    {
     "name": "stdout",
     "output_type": "stream",
     "text": [
      "Enter Upperbound: 10\n",
      "2\n",
      "3\n",
      "5\n",
      "7\n",
      "Sum of all Primes:  17\n"
     ]
    }
   ],
   "source": [
    "x = int(input(\"Enter Upperbound: \"))\n",
    "sum = 0\n",
    "\n",
    "for temp in range(2, x+1):\n",
    "\n",
    "    for i in range(2, temp):\n",
    "\n",
    "        if(temp%i)==0:\n",
    "            break\n",
    "            \n",
    "    else:\n",
    "\n",
    "        sum = sum + temp\n",
    "\n",
    "        print(temp)\n",
    "\n",
    "print(\"Sum of all Primes: \", sum)\n"
   ]
  },
  {
   "cell_type": "code",
   "execution_count": 38,
   "metadata": {},
   "outputs": [
    {
     "name": "stdout",
     "output_type": "stream",
     "text": [
      "Please enter an upper bound: 10\n",
      "Prime Numbers: \n",
      "2\n",
      "3\n",
      "5\n",
      "7\n",
      "Sum of all these prime numbers:  17\n"
     ]
    }
   ],
   "source": [
    "def prime_checking(number):\n",
    "\n",
    "    for i in range(2,number):\n",
    "\n",
    "        check = 0 \n",
    "\n",
    "        if(number%i==0):\n",
    "\n",
    "            return False\n",
    "\n",
    "    return True\n",
    "\n",
    "\n",
    "def prime_addition(prime_addition):\n",
    "\n",
    "    sum = 0\n",
    "\n",
    "    for i in range(len(prime_list)):\n",
    "\n",
    "        sum += prime_list[i]\n",
    "\n",
    "    print(\"Sum of all these prime numbers: \", sum)\n",
    "\n",
    "\n",
    "prime_list = []\n",
    "\n",
    "num = int(input('Please enter an upper bound: '))\n",
    "\n",
    "for i in range(2,num+1):\n",
    "\n",
    "    if(prime_checking(i)):\n",
    "\n",
    "        prime_list.append(i)\n",
    "\n",
    "\n",
    "print(\"Prime Numbers: \")\n",
    "\n",
    "for i in range(len(prime_list)):\n",
    "\n",
    "    print(prime_list[i])\n",
    "\n",
    "\n",
    "prime_addition(prime_list)"
   ]
  },
  {
   "cell_type": "code",
   "execution_count": 39,
   "metadata": {},
   "outputs": [
    {
     "name": "stdout",
     "output_type": "stream",
     "text": [
      "Enter fibonacchi range : 15\n",
      "Enter number to search : 7\n",
      "[0, 1, 1, 2, 3, 5, 8, 13, 21, 34, 55, 89, 144, 233, 377, 610]\n",
      "Not found\n"
     ]
    }
   ],
   "source": [
    "def fib(n):\n",
    "    fibonacci = [0]*(n+1)\n",
    "    fibonacci[1]=1\n",
    "    for i in range(2,n+1):\n",
    "        fibonacci[i] = fibonacci[i-2] + fibonacci[i-1]\n",
    "    return fibonacci\n",
    "\n",
    "\n",
    "def binary_search(list , search):\n",
    "    left = 0\n",
    "    right = len(list)-1\n",
    "    print(list)\n",
    "    while left<=right :\n",
    "        mid = left+(right-left)//2\n",
    "        if search == list[mid]:\n",
    "            return True\n",
    "        if search > list[mid]:\n",
    "            left = mid+1\n",
    "        else:\n",
    "            right = mid-1\n",
    "    return False\n",
    "\n",
    "\n",
    "fib_range = int(input(\"Enter fibonacchi range : \"))\n",
    "search = int(input(\"Enter number to search : \"))\n",
    "if binary_search(fib(fib_range),search):\n",
    "    print(\"Found\")\n",
    "else :\n",
    "    print(\"Not found\")"
   ]
  },
  {
   "cell_type": "code",
   "execution_count": 40,
   "metadata": {},
   "outputs": [
    {
     "name": "stdout",
     "output_type": "stream",
     "text": [
      "Enter a number: 10\n",
      "series sequence:\n",
      "[0, 1, 1, 2, 3, 5, 8]\n",
      "Enter a number to found: 66\n"
     ]
    }
   ],
   "source": [
    "fibonacci = []\n",
    "\n",
    "\n",
    "\n",
    "def series(n):\n",
    "\n",
    "   if n <= 1:\n",
    "\n",
    "       return n\n",
    "\n",
    "   else:\n",
    "\n",
    "       return(series(n-1) + series(n-2))\n",
    "\n",
    "\n",
    "\n",
    "upperLimit = int(input(\"Enter a number: \"))\n",
    "\n",
    "\n",
    "\n",
    "if upperLimit <= 0:\n",
    "\n",
    "   print(\"Enter any positive number\")\n",
    "\n",
    "else:\n",
    "\n",
    "   print(\"series sequence:\")\n",
    "\n",
    "   for i in range(upperLimit):\n",
    "\n",
    "       if series(i)<=upperLimit:\n",
    "\n",
    "           fibonacci.append(series(i))\n",
    "\n",
    "\n",
    "\n",
    "print(fibonacci)\n",
    "\n",
    "\n",
    "\n",
    "def binarySearch(alist, item):\n",
    "\n",
    "    first = 0\n",
    "\n",
    "    last = len(alist)-1\n",
    "\n",
    "    found = False\n",
    "\n",
    "\n",
    "\n",
    "    while first<=last and not found:\n",
    "\n",
    "        midpoint = (first + last)//2\n",
    "\n",
    "        if alist[midpoint] == item:\n",
    "\n",
    "            return True\n",
    "\n",
    "            \n",
    "\n",
    "        else:\n",
    "\n",
    "            if item < alist[midpoint]:\n",
    "\n",
    "                last = midpoint-1\n",
    "\n",
    "            else:\n",
    "\n",
    "                first = midpoint+1\n",
    "\n",
    "    \n",
    "\n",
    "    return False\n",
    "\n",
    "\n",
    "\n",
    "item = int(input(\"Enter a number to found: \"))\n",
    "\n",
    "\n",
    "\n",
    "if binarySearch(fibonacci, item):\n",
    "\n",
    "    print (\"found\")"
   ]
  },
  {
   "cell_type": "code",
   "execution_count": null,
   "metadata": {},
   "outputs": [],
   "source": []
  }
 ],
 "metadata": {
  "kernelspec": {
   "display_name": "Python 3",
   "language": "python",
   "name": "python3"
  },
  "language_info": {
   "codemirror_mode": {
    "name": "ipython",
    "version": 3
   },
   "file_extension": ".py",
   "mimetype": "text/x-python",
   "name": "python",
   "nbconvert_exporter": "python",
   "pygments_lexer": "ipython3",
   "version": "3.7.4"
  }
 },
 "nbformat": 4,
 "nbformat_minor": 4
}
