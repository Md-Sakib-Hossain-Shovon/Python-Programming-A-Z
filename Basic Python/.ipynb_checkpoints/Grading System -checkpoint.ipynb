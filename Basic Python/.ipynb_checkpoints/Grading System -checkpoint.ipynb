{
 "cells": [
  {
   "cell_type": "code",
   "execution_count": 3,
   "metadata": {},
   "outputs": [
    {
     "name": "stdout",
     "output_type": "stream",
     "text": [
      " Please Enter Your Mark: \n",
      "88\n",
      "You got A+ grade!\n"
     ]
    }
   ],
   "source": [
    "#Grading System\n",
    "\n",
    "num=int(input(' Please Enter Your Mark: \\n'))\n",
    "if num<=100 and num>=80:\n",
    "    print('You got A+ grade!')\n",
    "    \n",
    "elif num<79 and num>75:\n",
    "    print('You got A grade')\n",
    "    \n",
    "elif num < 75 and num > 70:\n",
    "    print('You got A- grade')\n",
    "    \n",
    "elif num < 70 and num > 65:\n",
    "    print('You got B+ grade')\n",
    "    \n",
    "elif num < 65 and num > 60:\n",
    "    print('You got B grade')\n",
    "    \n",
    "elif num <60 and num >50:\n",
    "    print('You got C+ grade')\n",
    "    \n",
    "elif num <50 and num >40:\n",
    "    print('You got C grade')\n",
    "\n",
    "else :\n",
    "    print('Sorry! You are fail')\n",
    "\n"
   ]
  },
  {
   "cell_type": "code",
   "execution_count": null,
   "metadata": {},
   "outputs": [],
   "source": []
  },
  {
   "cell_type": "code",
   "execution_count": null,
   "metadata": {},
   "outputs": [],
   "source": []
  }
 ],
 "metadata": {
  "kernelspec": {
   "display_name": "Python 3",
   "language": "python",
   "name": "python3"
  },
  "language_info": {
   "codemirror_mode": {
    "name": "ipython",
    "version": 3
   },
   "file_extension": ".py",
   "mimetype": "text/x-python",
   "name": "python",
   "nbconvert_exporter": "python",
   "pygments_lexer": "ipython3",
   "version": "3.7.4"
  }
 },
 "nbformat": 4,
 "nbformat_minor": 4
}
