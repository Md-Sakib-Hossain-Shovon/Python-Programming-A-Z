{
 "cells": [
  {
   "cell_type": "code",
   "execution_count": 56,
   "metadata": {},
   "outputs": [],
   "source": [
    "import numpy as np\n"
   ]
  },
  {
   "cell_type": "code",
   "execution_count": null,
   "metadata": {},
   "outputs": [],
   "source": [
    "#Problem-1\n"
   ]
  },
  {
   "cell_type": "code",
   "execution_count": null,
   "metadata": {},
   "outputs": [],
   "source": [
    "#Problem-2\n",
    "\n"
   ]
  },
  {
   "cell_type": "code",
   "execution_count": 3,
   "metadata": {},
   "outputs": [
    {
     "name": "stdout",
     "output_type": "stream",
     "text": [
      "[[10 11 12]\n",
      " [13 14 15]]\n",
      "[[16 17 18]\n",
      " [19 20 21]]\n",
      "[[22 23 24]\n",
      " [25 26 27]]\n",
      "[[28 29 30]\n",
      " [31 32 33]]\n"
     ]
    }
   ],
   "source": [
    "#Problem-3\n",
    "import numpy as np\n",
    "array= np.arange(10, 34).reshape((8,3))\n",
    "one, two, three, four = np.vsplit(array, 4)\n",
    "print(one)\n",
    "print(two)\n",
    "print(three)\n",
    "print(four)"
   ]
  },
  {
   "cell_type": "code",
   "execution_count": 13,
   "metadata": {},
   "outputs": [
    {
     "name": "stdout",
     "output_type": "stream",
     "text": [
      "[[34 43 73]\n",
      " [82 22 12]\n",
      " [53 94 66]]\n",
      "[[73 43 34]\n",
      " [12 22 82]\n",
      " [66 94 53]]\n",
      "[[82 22 12]\n",
      " [34 43 73]\n",
      " [53 94 66]]\n"
     ]
    }
   ],
   "source": [
    "#Problem-4\n",
    "#expected output according to question\n",
    "import numpy as np\n",
    "array =np.array([[34, 43, 73],[82, 22, 12],[53, 94,66]])\n",
    "print(array)\n",
    "\n",
    "array1=array[:, np.argsort(array[1])] \n",
    "print(array1)\n",
    "array2=array[np.argsort(array[:,1])]\n",
    "print(array2)"
   ]
  },
  {
   "cell_type": "code",
   "execution_count": 19,
   "metadata": {},
   "outputs": [
    {
     "name": "stdout",
     "output_type": "stream",
     "text": [
      "Fare is 5000\n",
      "Fare is5500.0\n"
     ]
    },
    {
     "ename": "NameError",
     "evalue": "name 'obj3' is not defined",
     "output_type": "error",
     "traceback": [
      "\u001b[1;31m---------------------------------------------------------------------------\u001b[0m",
      "\u001b[1;31mNameError\u001b[0m                                 Traceback (most recent call last)",
      "\u001b[1;32m<ipython-input-19-a7998537422e>\u001b[0m in \u001b[0;36m<module>\u001b[1;34m\u001b[0m\n\u001b[0;32m     26\u001b[0m \u001b[0mobj2\u001b[0m\u001b[1;33m.\u001b[0m\u001b[0mfare\u001b[0m\u001b[1;33m(\u001b[0m\u001b[1;33m)\u001b[0m\u001b[1;33m\u001b[0m\u001b[1;33m\u001b[0m\u001b[0m\n\u001b[0;32m     27\u001b[0m \u001b[0mobj\u001b[0m\u001b[1;33m=\u001b[0m \u001b[0mMiniBus\u001b[0m\u001b[1;33m(\u001b[0m\u001b[1;34m\" Small Trip\"\u001b[0m\u001b[1;33m,\u001b[0m \u001b[1;36m10\u001b[0m\u001b[1;33m,\u001b[0m\u001b[1;36m50\u001b[0m\u001b[1;33m)\u001b[0m\u001b[1;33m\u001b[0m\u001b[1;33m\u001b[0m\u001b[0m\n\u001b[1;32m---> 28\u001b[1;33m \u001b[0mobj3\u001b[0m\u001b[1;33m.\u001b[0m\u001b[0mfare\u001b[0m\u001b[1;33m(\u001b[0m\u001b[1;33m)\u001b[0m\u001b[1;33m\u001b[0m\u001b[1;33m\u001b[0m\u001b[0m\n\u001b[0m",
      "\u001b[1;31mNameError\u001b[0m: name 'obj3' is not defined"
     ]
    }
   ],
   "source": [
    "#Problem-4 Vehicle:\n",
    "class Vehicle:\n",
    "    def __init__(self, name, mileage, capacity):\n",
    "        self.name = name\n",
    "        self.mileage = mileage\n",
    "        self.capacity=capacity\n",
    "    def fare(self):\n",
    "        self.capacity=self.capacity*100\n",
    "        print('Fare is '+str(self.capacity))\n",
    "\n",
    "class Bus(Vehicle) :\n",
    "    def fare(self):\n",
    "        self.capacity=(self.capacity*100)\n",
    "        self.capacity=self.capacity+(self.capacity*.1)\n",
    "        print('Fare is' +str(self.capacity))\n",
    "\n",
    "class MiniBus (Vehicle):\n",
    "    def fare(self):\n",
    "        self.capacity=(self.capacity*100)\n",
    "        self.capacity=(self.capacity+(self.capacity*.1))/2\n",
    "        print('Fare is' +str (self. capacity))\n",
    "\n",
    "obj1= Vehicle(\"Car\", 10,50)\n",
    "obj1.fare()\n",
    "obj2= Bus(\"Western Journey\",10, 50)\n",
    "obj2.fare()\n",
    "obj3= MiniBus(\" Small Trip\", 10,50)\n",
    "obj3.fare()"
   ]
  },
  {
   "cell_type": "code",
   "execution_count": null,
   "metadata": {},
   "outputs": [],
   "source": []
  }
 ],
 "metadata": {
  "kernelspec": {
   "display_name": "Python 3",
   "language": "python",
   "name": "python3"
  },
  "language_info": {
   "codemirror_mode": {
    "name": "ipython",
    "version": 3
   },
   "file_extension": ".py",
   "mimetype": "text/x-python",
   "name": "python",
   "nbconvert_exporter": "python",
   "pygments_lexer": "ipython3",
   "version": "3.7.4"
  }
 },
 "nbformat": 4,
 "nbformat_minor": 4
}
