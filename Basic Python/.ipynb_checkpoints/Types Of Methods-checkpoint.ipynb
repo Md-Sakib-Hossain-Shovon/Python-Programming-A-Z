{
 "cells": [
  {
   "cell_type": "markdown",
   "metadata": {},
   "source": [
    "##Instance_Method//avg works with obj.Instance method has 2 types.(1)Accessor,(2)Mutator.If we want to fetch the value we will use accessor,if we want to modify value we will use mutator"
   ]
  },
  {
   "cell_type": "code",
   "execution_count": 3,
   "metadata": {},
   "outputs": [
    {
     "name": "stdout",
     "output_type": "stream",
     "text": [
      "32.333333333333336\n",
      "57.0\n"
     ]
    }
   ],
   "source": [
    "class student:\n",
    "    school='Sakib'\n",
    "    def __init__ (self,m1,m2,m3):\n",
    "        self.m1=m1\n",
    "        self.m2=m2\n",
    "        self.m3=m3\n",
    "    def avg(self):\n",
    "            return(self.m1+self.m2+self.m3)/3\n",
    "s1=student(43,42,12)\n",
    "s2=student(63,76,32)\n",
    "print(s1.avg())\n",
    "print(s2.avg())"
   ]
  },
  {
   "cell_type": "markdown",
   "metadata": {},
   "source": [
    "##Get-get the value or only fetch the value:accessor,Set-set change the value:mutator"
   ]
  },
  {
   "cell_type": "code",
   "execution_count": 8,
   "metadata": {},
   "outputs": [
    {
     "name": "stdout",
     "output_type": "stream",
     "text": [
      "32.333333333333336\n",
      "57.0\n"
     ]
    }
   ],
   "source": [
    "class student:\n",
    "    school='Sakib'\n",
    "    def __init__ (self,m1,m2,m3):\n",
    "        self.m1=m1\n",
    "        self.m2=m2\n",
    "        self.m3=m3\n",
    "    def avg(self):\n",
    "            return(self.m1+self.m2+self.m3)/3\n",
    "    def get_m1(self):\n",
    "        return self.m1\n",
    "    def set_m1(self,value):\n",
    "        self.m1=value\n",
    "s1=student(43,42,12)\n",
    "s2=student(63,76,32)\n",
    "print(s1.avg())\n",
    "print(s2.avg())"
   ]
  },
  {
   "cell_type": "markdown",
   "metadata": {},
   "source": [
    "##Class Method.If we work with class variable we will use cls instead of self"
   ]
  },
  {
   "cell_type": "code",
   "execution_count": 9,
   "metadata": {},
   "outputs": [
    {
     "name": "stdout",
     "output_type": "stream",
     "text": [
      "32.333333333333336\n",
      "57.0\n",
      "Sakib\n"
     ]
    }
   ],
   "source": [
    "class student:\n",
    "    school='Sakib'\n",
    "    def __init__ (self,m1,m2,m3):\n",
    "        self.m1=m1\n",
    "        self.m2=m2\n",
    "        self.m3=m3\n",
    "    def avg(self):\n",
    "            return(self.m1+self.m2+self.m3)/3\n",
    "    @classmethod\n",
    "    def info(cls):\n",
    "        return cls.school\n",
    "s1=student(43,42,12)\n",
    "s2=student(63,76,32)\n",
    "print(s1.avg())\n",
    "print(s2.avg())\n",
    "print(student.info())"
   ]
  },
  {
   "cell_type": "markdown",
   "metadata": {},
   "source": [
    "##Static Method"
   ]
  },
  {
   "cell_type": "code",
   "execution_count": 10,
   "metadata": {},
   "outputs": [
    {
     "name": "stdout",
     "output_type": "stream",
     "text": [
      "32.333333333333336\n",
      "57.0\n",
      "Hello\n"
     ]
    }
   ],
   "source": [
    "class student:\n",
    "    school='Sakib'\n",
    "    def __init__ (self,m1,m2,m3):\n",
    "        self.m1=m1\n",
    "        self.m2=m2\n",
    "        self.m3=m3\n",
    "    def avg(self):\n",
    "            return(self.m1+self.m2+self.m3)/3\n",
    "    @classmethod\n",
    "    def getSchool(cls):\n",
    "        return cls.school\n",
    "    @staticmethod\n",
    "    def info():\n",
    "        print(\"Hello\")\n",
    "s1=student(43,42,12)\n",
    "s2=student(63,76,32)\n",
    "print(s1.avg())\n",
    "print(s2.avg())\n",
    "student.info()"
   ]
  },
  {
   "cell_type": "code",
   "execution_count": null,
   "metadata": {},
   "outputs": [],
   "source": []
  }
 ],
 "metadata": {
  "kernelspec": {
   "display_name": "Python 3",
   "language": "python",
   "name": "python3"
  },
  "language_info": {
   "codemirror_mode": {
    "name": "ipython",
    "version": 3
   },
   "file_extension": ".py",
   "mimetype": "text/x-python",
   "name": "python",
   "nbconvert_exporter": "python",
   "pygments_lexer": "ipython3",
   "version": "3.7.4"
  }
 },
 "nbformat": 4,
 "nbformat_minor": 4
}
