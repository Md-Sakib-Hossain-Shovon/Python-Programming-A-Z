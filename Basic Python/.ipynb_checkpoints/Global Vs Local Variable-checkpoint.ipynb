{
 "cells": [
  {
   "cell_type": "code",
   "execution_count": 1,
   "metadata": {},
   "outputs": [
    {
     "name": "stdout",
     "output_type": "stream",
     "text": [
      "Inside Of Func 15\n",
      "Outside Of Func 10\n"
     ]
    }
   ],
   "source": [
    "a=10\n",
    "def something():\n",
    "    a=15\n",
    "    print(\"Inside Of Func\",a)\n",
    "something()\n",
    "print(\"Outside Of Func\",a)"
   ]
  },
  {
   "cell_type": "code",
   "execution_count": 5,
   "metadata": {},
   "outputs": [
    {
     "name": "stdout",
     "output_type": "stream",
     "text": [
      "140726244569632\n",
      "140726244569632\n",
      "Inside Func 9\n",
      "Outside Of Func 10\n"
     ]
    }
   ],
   "source": [
    "a=10\n",
    "print(id(a))\n",
    "def something():\n",
    "    a=9\n",
    "    x=globals()['a']\n",
    "    print(id(x))\n",
    "    print(\"Inside Func\",a)\n",
    "something()\n",
    "print(\"Outside Of Func\",a)"
   ]
  },
  {
   "cell_type": "code",
   "execution_count": 4,
   "metadata": {},
   "outputs": [
    {
     "name": "stdout",
     "output_type": "stream",
     "text": [
      "140726244569632\n",
      "140726244569632\n",
      "Inside Func 9\n",
      "Outside Of Func 15\n"
     ]
    }
   ],
   "source": [
    "a=10\n",
    "print(id(a))\n",
    "def something():\n",
    "    a=9\n",
    "    x=globals()['a']\n",
    "    print(id(x))\n",
    "    print(\"Inside Func\",a)\n",
    "    globals()['a']=15\n",
    "something()\n",
    "print(\"Outside Of Func\",a)"
   ]
  },
  {
   "cell_type": "code",
   "execution_count": null,
   "metadata": {},
   "outputs": [],
   "source": []
  }
 ],
 "metadata": {
  "kernelspec": {
   "display_name": "Python 3",
   "language": "python",
   "name": "python3"
  },
  "language_info": {
   "codemirror_mode": {
    "name": "ipython",
    "version": 3
   },
   "file_extension": ".py",
   "mimetype": "text/x-python",
   "name": "python",
   "nbconvert_exporter": "python",
   "pygments_lexer": "ipython3",
   "version": "3.7.4"
  }
 },
 "nbformat": 4,
 "nbformat_minor": 4
}
