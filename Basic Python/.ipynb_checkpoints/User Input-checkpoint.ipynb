{
 "cells": [
  {
   "cell_type": "code",
   "execution_count": 1,
   "metadata": {},
   "outputs": [
    {
     "name": "stdout",
     "output_type": "stream",
     "text": [
      "Enter 1st Num9\n",
      "Enter 2nd Num8\n",
      "17\n"
     ]
    }
   ],
   "source": [
    "x=int(input(\"Enter 1st Num\"))\n",
    "y=int(input(\"Enter 2nd Num\"))\n",
    "z=x+y\n",
    "print(z)"
   ]
  },
  {
   "cell_type": "code",
   "execution_count": 2,
   "metadata": {},
   "outputs": [
    {
     "name": "stdout",
     "output_type": "stream",
     "text": [
      "Enter A Charsakib\n",
      "sakib\n"
     ]
    }
   ],
   "source": [
    "ch=input(\"Enter A Char\")\n",
    "print(ch)"
   ]
  },
  {
   "cell_type": "code",
   "execution_count": 3,
   "metadata": {},
   "outputs": [
    {
     "name": "stdout",
     "output_type": "stream",
     "text": [
      "Enter A Charsakib\n",
      "s\n"
     ]
    }
   ],
   "source": [
    "ch=input(\"Enter A Char\")\n",
    "print(ch[0])"
   ]
  },
  {
   "cell_type": "code",
   "execution_count": 4,
   "metadata": {},
   "outputs": [
    {
     "name": "stdout",
     "output_type": "stream",
     "text": [
      "Enter A Charsakib\n",
      "s\n"
     ]
    }
   ],
   "source": [
    "ch=input(\"Enter A Char\")[0]\n",
    "print(ch)"
   ]
  }
 ],
 "metadata": {
  "kernelspec": {
   "display_name": "Python 3",
   "language": "python",
   "name": "python3"
  },
  "language_info": {
   "codemirror_mode": {
    "name": "ipython",
    "version": 3
   },
   "file_extension": ".py",
   "mimetype": "text/x-python",
   "name": "python",
   "nbconvert_exporter": "python",
   "pygments_lexer": "ipython3",
   "version": "3.7.4"
  }
 },
 "nbformat": 4,
 "nbformat_minor": 4
}
