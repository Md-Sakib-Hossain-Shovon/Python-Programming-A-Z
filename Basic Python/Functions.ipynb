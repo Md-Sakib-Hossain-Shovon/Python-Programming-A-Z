{
 "cells": [
  {
   "cell_type": "code",
   "execution_count": 1,
   "metadata": {},
   "outputs": [
    {
     "name": "stdout",
     "output_type": "stream",
     "text": [
      "Hello World\n"
     ]
    }
   ],
   "source": [
    "def funcName():\n",
    "    print(\"Hello World\")\n",
    "funcName()    "
   ]
  },
  {
   "cell_type": "code",
   "execution_count": 2,
   "metadata": {},
   "outputs": [
    {
     "name": "stdout",
     "output_type": "stream",
     "text": [
      "Hello World\n",
      "11\n"
     ]
    }
   ],
   "source": [
    "def funcName():\n",
    "    print(\"Hello World\")    \n",
    "def add(x,y):\n",
    "    c=x+y\n",
    "    return c\n",
    "funcName()\n",
    "result=add(5,6)\n",
    "print(result)"
   ]
  },
  {
   "cell_type": "code",
   "execution_count": 3,
   "metadata": {},
   "outputs": [
    {
     "name": "stdout",
     "output_type": "stream",
     "text": [
      "11 1\n"
     ]
    }
   ],
   "source": [
    "  \n",
    "def add_sub(x,y):\n",
    "    c=x+y\n",
    "    d=y-x\n",
    "    return c,d\n",
    "result1,result2=add_sub(5,6)\n",
    "print(result1,result2)"
   ]
  },
  {
   "cell_type": "markdown",
   "metadata": {},
   "source": [
    "##Function Arguments"
   ]
  },
  {
   "cell_type": "code",
   "execution_count": 4,
   "metadata": {},
   "outputs": [
    {
     "name": "stdout",
     "output_type": "stream",
     "text": [
      "x 10\n",
      "a 5\n"
     ]
    }
   ],
   "source": [
    "def update(x):\n",
    "    x=10\n",
    "    print(\"x\",x)\n",
    "a=5\n",
    "update(a)\n",
    "print(\"a\",a)\n",
    "    "
   ]
  },
  {
   "cell_type": "code",
   "execution_count": 8,
   "metadata": {},
   "outputs": [
    {
     "name": "stdout",
     "output_type": "stream",
     "text": [
      "140726290903424\n",
      "140726290903424\n",
      "140726290903584\n",
      "x 10\n",
      "a 5\n"
     ]
    }
   ],
   "source": [
    "def update(x):\n",
    "    print(id(x))\n",
    "    \n",
    "    x=10\n",
    "    print(id(x))\n",
    "    print(\"x\",x)      \n",
    "a=5\n",
    "print(id(a))\n",
    "update(a)\n",
    "print(\"a\",a)\n",
    "    "
   ]
  },
  {
   "cell_type": "code",
   "execution_count": 10,
   "metadata": {},
   "outputs": [
    {
     "name": "stdout",
     "output_type": "stream",
     "text": [
      "1748416212680\n",
      "1748416212680\n",
      "1748416212680\n",
      "x [0, 20, 30, 40]\n",
      "lst [0, 20, 30, 40]\n"
     ]
    }
   ],
   "source": [
    "def update(x):\n",
    "    print(id(lst))\n",
    "    lst[1]\n",
    "    print(id(lst))\n",
    "    print(\"x\",lst)      \n",
    "lst=[0,20,30,40]\n",
    "print(id(lst))\n",
    "update(lst)\n",
    "print(\"lst\",lst)\n",
    "    "
   ]
  },
  {
   "cell_type": "code",
   "execution_count": null,
   "metadata": {},
   "outputs": [],
   "source": []
  }
 ],
 "metadata": {
  "kernelspec": {
   "display_name": "Python 3",
   "language": "python",
   "name": "python3"
  },
  "language_info": {
   "codemirror_mode": {
    "name": "ipython",
    "version": 3
   },
   "file_extension": ".py",
   "mimetype": "text/x-python",
   "name": "python",
   "nbconvert_exporter": "python",
   "pygments_lexer": "ipython3",
   "version": "3.7.4"
  }
 },
 "nbformat": 4,
 "nbformat_minor": 4
}
