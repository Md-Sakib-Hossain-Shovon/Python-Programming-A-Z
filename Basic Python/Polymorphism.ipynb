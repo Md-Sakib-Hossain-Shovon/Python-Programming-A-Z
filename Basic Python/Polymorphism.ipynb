{
 "cells": [
  {
   "cell_type": "markdown",
   "metadata": {},
   "source": [
    "##Duck_Typing//example belongs to myeditor type.It doesn't matther the class.It matters who have exe method"
   ]
  },
  {
   "cell_type": "code",
   "execution_count": 27,
   "metadata": {},
   "outputs": [
    {
     "name": "stdout",
     "output_type": "stream",
     "text": [
      "Hellow\n",
      "Hi\n"
     ]
    }
   ],
   "source": [
    "class pycharm:\n",
    "    def execute(self):\n",
    "        print(\"Compiling\")\n",
    "        print(\"Running\")\n",
    "class myeditor:\n",
    "    def exe(self):\n",
    "        print(\"Hellow\")\n",
    "        print(\"Hi\")\n",
    "class laptop:\n",
    "    def anyname(self,example):\n",
    "        example.exe()\n",
    "example=myeditor()\n",
    "lap=laptop()\n",
    "lap.anyname(example)"
   ]
  },
  {
   "cell_type": "markdown",
   "metadata": {},
   "source": [
    "##Operator Overloading//magic method:add,sub,mul etc."
   ]
  },
  {
   "cell_type": "code",
   "execution_count": 28,
   "metadata": {},
   "outputs": [
    {
     "name": "stdout",
     "output_type": "stream",
     "text": [
      "6\n",
      "6\n"
     ]
    }
   ],
   "source": [
    "a=4\n",
    "b=2\n",
    "print(a+b)\n",
    "print(int.__add__(a,b))"
   ]
  },
  {
   "cell_type": "code",
   "execution_count": 34,
   "metadata": {},
   "outputs": [
    {
     "name": "stdout",
     "output_type": "stream",
     "text": [
      "95\n"
     ]
    }
   ],
   "source": [
    "class student:\n",
    "    def __init__(self,m1,m2):\n",
    "        self.m1=m1\n",
    "        self.m2=m2\n",
    "    def __add__(self,other):\n",
    "        m1=self.m1+other.m1\n",
    "        m2=self.m2+other.m2\n",
    "        s3=student(m1,m2)\n",
    "        return s3\n",
    "s1=student(32,42)\n",
    "s2=student(63,32)\n",
    "s3=s1+s2\n",
    "print(s3.m1)\n",
    "    "
   ]
  },
  {
   "cell_type": "code",
   "execution_count": 37,
   "metadata": {},
   "outputs": [
    {
     "name": "stdout",
     "output_type": "stream",
     "text": [
      "S2 Wins\n",
      "6\n",
      "3242\n",
      "6332\n"
     ]
    }
   ],
   "source": [
    "class student:\n",
    "    def __init__(self,m1,m2):\n",
    "        self.m1=m1\n",
    "        self.m2=m2\n",
    "    def __add__(self,other):\n",
    "        m1=self.m1+other.m1\n",
    "        m2=self.m2+other.m2\n",
    "        s3=student(m1,m2)\n",
    "        return s3\n",
    "    def __gt__(self,other):\n",
    "        r1=self.m1+self.m2\n",
    "        r2=other.m1+other.m2\n",
    "        if r1>r2:\n",
    "            return True\n",
    "        else:\n",
    "            return False\n",
    "    def __str__(self):\n",
    "            return '{}{}'.format(self.m1,self.m2)\n",
    "s1=student(32,42)\n",
    "s2=student(63,32)\n",
    "s3=s1+s2\n",
    "if s1>s2:\n",
    "    print(\"S1 Wins\")\n",
    "else:\n",
    "    print(\"S2 Wins\")\n",
    "a=6\n",
    "print(a. __str__())\n",
    "print(s1)\n",
    "print(s2)\n",
    "    "
   ]
  },
  {
   "cell_type": "markdown",
   "metadata": {},
   "source": [
    "##Method Overloading//Python haven't have this concept but it can be done in some tricky way like above"
   ]
  },
  {
   "cell_type": "code",
   "execution_count": 17,
   "metadata": {},
   "outputs": [
    {
     "name": "stdout",
     "output_type": "stream",
     "text": [
      "11\n"
     ]
    }
   ],
   "source": [
    "class student:\n",
    "    def __init__(self,m1,m2):\n",
    "        self.m1=m1\n",
    "        self.m2=m2\n",
    "    \n",
    "    def sum(self,a=None,b=None,c=None):\n",
    "        s=0\n",
    "        if a!=None and b!=None and c!=None:\n",
    "            s=a+b+c\n",
    "        elif a!=None and b!=None:\n",
    "            s=a+b\n",
    "        else:\n",
    "            s=a\n",
    "        return s\n",
    "s1=student(67,22)\n",
    "print(s1.sum(5,6))"
   ]
  },
  {
   "cell_type": "markdown",
   "metadata": {},
   "source": [
    "##Method Overriding//It can't be done in python but we can use inheritance concept where A,B has same name,same arguments that's called overriding.Here,when we call it will go to class B and search if something not found then it goes to class A and print value"
   ]
  },
  {
   "cell_type": "code",
   "execution_count": 19,
   "metadata": {},
   "outputs": [
    {
     "name": "stdout",
     "output_type": "stream",
     "text": [
      "B Show\n"
     ]
    }
   ],
   "source": [
    "class A:\n",
    "    def show(self):\n",
    "        print(\"A Show\")\n",
    "class B(A):\n",
    "    def show(self):\n",
    "        print(\"B Show\")\n",
    "a1=B()\n",
    "a1.show()"
   ]
  },
  {
   "cell_type": "code",
   "execution_count": null,
   "metadata": {},
   "outputs": [],
   "source": []
  }
 ],
 "metadata": {
  "kernelspec": {
   "display_name": "Python 3",
   "language": "python",
   "name": "python3"
  },
  "language_info": {
   "codemirror_mode": {
    "name": "ipython",
    "version": 3
   },
   "file_extension": ".py",
   "mimetype": "text/x-python",
   "name": "python",
   "nbconvert_exporter": "python",
   "pygments_lexer": "ipython3",
   "version": "3.7.4"
  }
 },
 "nbformat": 4,
 "nbformat_minor": 4
}
