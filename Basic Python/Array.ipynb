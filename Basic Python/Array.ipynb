{
 "cells": [
  {
   "cell_type": "code",
   "execution_count": 1,
   "metadata": {},
   "outputs": [
    {
     "name": "stdout",
     "output_type": "stream",
     "text": [
      "array('i', [3, 6, 2, -3, 2])\n"
     ]
    }
   ],
   "source": [
    "from array import *\n",
    "vals=array('i',[3,6,2,-3,2])\n",
    "print(vals)\n",
    "\n",
    "\n"
   ]
  },
  {
   "cell_type": "code",
   "execution_count": 2,
   "metadata": {},
   "outputs": [
    {
     "name": "stdout",
     "output_type": "stream",
     "text": [
      "(2150568918736, 5)\n"
     ]
    }
   ],
   "source": [
    "from array import *\n",
    "vals=array('i',[3,6,2,-3,2])\n",
    "print(vals.buffer_info())\n",
    "\n",
    "\n"
   ]
  },
  {
   "cell_type": "code",
   "execution_count": 3,
   "metadata": {},
   "outputs": [
    {
     "name": "stdout",
     "output_type": "stream",
     "text": [
      "array('i', [2, -3, 2, 6, 3])\n"
     ]
    }
   ],
   "source": [
    "from array import *\n",
    "vals=array('i',[3,6,2,-3,2])\n",
    "vals.reverse()\n",
    "print(vals)\n",
    "\n",
    "\n",
    "\n"
   ]
  },
  {
   "cell_type": "code",
   "execution_count": 4,
   "metadata": {},
   "outputs": [
    {
     "name": "stdout",
     "output_type": "stream",
     "text": [
      "3\n"
     ]
    }
   ],
   "source": [
    "from array import *\n",
    "vals=array('i',[3,6,2,-3,2])\n",
    "print(vals[0])\n",
    "\n",
    "\n",
    "\n"
   ]
  },
  {
   "cell_type": "code",
   "execution_count": 8,
   "metadata": {},
   "outputs": [
    {
     "name": "stdout",
     "output_type": "stream",
     "text": [
      "3\n",
      "6\n",
      "2\n",
      "-3\n",
      "2\n"
     ]
    }
   ],
   "source": [
    "from array import *\n",
    "vals=array('i',[3,6,2,-3,2])\n",
    "for i in range(5):\n",
    "    print(vals[i])\n",
    "\n",
    "\n",
    "\n"
   ]
  },
  {
   "cell_type": "code",
   "execution_count": 9,
   "metadata": {},
   "outputs": [
    {
     "name": "stdout",
     "output_type": "stream",
     "text": [
      "3\n",
      "6\n",
      "2\n",
      "-3\n",
      "2\n"
     ]
    }
   ],
   "source": [
    "from array import *\n",
    "vals=array('i',[3,6,2,-3,2])\n",
    "for i in range(len(vals)):\n",
    "    print(vals[i])\n",
    "\n",
    "\n",
    "\n"
   ]
  },
  {
   "cell_type": "code",
   "execution_count": 10,
   "metadata": {},
   "outputs": [
    {
     "name": "stdout",
     "output_type": "stream",
     "text": [
      "3\n",
      "6\n",
      "2\n",
      "-3\n",
      "2\n"
     ]
    }
   ],
   "source": [
    "from array import *\n",
    "vals=array('i',[3,6,2,-3,2])\n",
    "for e in vals:\n",
    "    print(e)\n",
    "\n",
    "\n",
    "\n"
   ]
  },
  {
   "cell_type": "code",
   "execution_count": 11,
   "metadata": {},
   "outputs": [
    {
     "name": "stdout",
     "output_type": "stream",
     "text": [
      "a\n",
      "e\n",
      "i\n",
      "o\n",
      "u\n"
     ]
    }
   ],
   "source": [
    "from array import *\n",
    "vals=array('u',['a','e','i','o','u'])\n",
    "for i in vals:\n",
    "    print(i)\n",
    "\n",
    "\n",
    "\n"
   ]
  },
  {
   "cell_type": "code",
   "execution_count": 12,
   "metadata": {},
   "outputs": [
    {
     "name": "stdout",
     "output_type": "stream",
     "text": [
      "25\n",
      "9\n",
      "64\n",
      "16\n",
      "4\n"
     ]
    }
   ],
   "source": [
    "from array import *\n",
    "vals=array('i',[5,3,8,4,2])\n",
    "newArr=array(vals.typecode,(a*a for a in vals))\n",
    "for e in newArr:\n",
    "    print(e)\n",
    "\n",
    "\n",
    "\n"
   ]
  },
  {
   "cell_type": "markdown",
   "metadata": {},
   "source": [
    "##Array_From_User_Input"
   ]
  },
  {
   "cell_type": "code",
   "execution_count": 13,
   "metadata": {},
   "outputs": [
    {
     "name": "stdout",
     "output_type": "stream",
     "text": [
      "Enter the length of the array3\n",
      "Enter the valuse12\n",
      "Enter the valuse20\n",
      "Enter the valuse34\n",
      "array('i', [12, 20, 34])\n"
     ]
    }
   ],
   "source": [
    "from array import *\n",
    "arr=array('i',[])\n",
    "n=int(input(\"Enter the length of the array\"))\n",
    "for i in range(n):\n",
    "    x=int(input(\"Enter the valuse\"))\n",
    "    arr.append(x)\n",
    "print(arr)    "
   ]
  },
  {
   "cell_type": "code",
   "execution_count": 14,
   "metadata": {},
   "outputs": [
    {
     "name": "stdout",
     "output_type": "stream",
     "text": [
      "Enter the length of the array3\n",
      "Enter the values2\n",
      "Enter the values4\n",
      "Enter the values6\n",
      "array('i', [2, 4, 6])\n",
      "Enter the value for search4\n",
      "1\n"
     ]
    }
   ],
   "source": [
    "from array import *\n",
    "arr=array('i',[])\n",
    "n=int(input(\"Enter the length of the array\"))\n",
    "for i in range(n):\n",
    "    x=int(input(\"Enter the values\"))\n",
    "    arr.append(x)\n",
    "print(arr)\n",
    "val=int(input(\"Enter the value for search\"))\n",
    "k=0\n",
    "for e in arr:\n",
    "    if e==val:\n",
    "        print(k)\n",
    "        break\n",
    "    k=k+1    "
   ]
  },
  {
   "cell_type": "code",
   "execution_count": null,
   "metadata": {},
   "outputs": [],
   "source": []
  }
 ],
 "metadata": {
  "kernelspec": {
   "display_name": "Python 3",
   "language": "python",
   "name": "python3"
  },
  "language_info": {
   "codemirror_mode": {
    "name": "ipython",
    "version": 3
   },
   "file_extension": ".py",
   "mimetype": "text/x-python",
   "name": "python",
   "nbconvert_exporter": "python",
   "pygments_lexer": "ipython3",
   "version": "3.7.4"
  }
 },
 "nbformat": 4,
 "nbformat_minor": 4
}
